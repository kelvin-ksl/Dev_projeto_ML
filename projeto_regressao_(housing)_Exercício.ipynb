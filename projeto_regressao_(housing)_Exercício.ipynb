{
 "cells": [
  {
   "cell_type": "markdown",
   "id": "49cf670f",
   "metadata": {
    "id": "49cf670f"
   },
   "source": [
    "# Projeto End-to End (housing)\n",
    "\n",
    "**OBS:** Enviar as respostas para as questões usando um arquivo nomedo com seu nome na extensão .html., por exemplo, exemplo: nicksson.html.\n",
    "\n",
    "Como salva um arquivo HTML do notebook?\n",
    "1. Clica em File\n",
    "2. Clica na opção Donwload as\n",
    "3. Seleciona a opção .HTML"
   ]
  },
  {
   "cell_type": "markdown",
   "id": "fed5253b",
   "metadata": {
    "id": "fed5253b"
   },
   "source": [
    "# Exercise solutions"
   ]
  },
  {
   "cell_type": "markdown",
   "id": "7a4668cf",
   "metadata": {
    "ExecuteTime": {
     "end_time": "2021-11-29T00:04:54.936640Z",
     "start_time": "2021-11-29T00:04:54.926644Z"
    },
    "id": "7a4668cf"
   },
   "source": [
    "### 1. Question: \n",
    "Implemente um Support Vector Machine para regressão (`sklearn.svm.SVR`), com vários hiperparâmetros, tais como `kernel=\"linear\"` (variando valores para o hiperparâmetro `C`) ou `kernel=\"rbf\"` (variando valores de hiperparâmetros `C` e `gamma`). Qual o SVM com melhor performance? Explique por que existe essa diferença de performance?"
   ]
  },
  {
   "cell_type": "code",
   "execution_count": 1,
   "id": "-Td_WIM6pWgS",
   "metadata": {
    "id": "-Td_WIM6pWgS"
   },
   "outputs": [],
   "source": [
    "import numpy as np\n",
    "from sklearn.svm import SVR\n",
    "import matplotlib.pyplot as plt\n",
    "import pandas as pd\n",
    "from sklearn.model_selection import GridSearchCV\n",
    "import seaborn as sns\n",
    "from matplotlib.pylab import rcParams\n",
    "from sklearn.preprocessing import LabelEncoder\n",
    "from sklearn.model_selection import train_test_split\n",
    "from sklearn.preprocessing import StandardScaler\n",
    "from sklearn.decomposition import PCA\n",
    "from sklearn.ensemble import RandomForestClassifier\n",
    "from sklearn.pipeline import make_pipeline\n",
    "from sklearn.model_selection import RandomizedSearchCV\n",
    "from scipy.stats import randint"
   ]
  },
  {
   "cell_type": "markdown",
   "id": "4b3e4fb5",
   "metadata": {},
   "source": [
    "*Gerando o dataset*"
   ]
  },
  {
   "cell_type": "code",
   "execution_count": 2,
   "id": "Yx2IMZNrpdI0",
   "metadata": {
    "id": "Yx2IMZNrpdI0"
   },
   "outputs": [],
   "source": [
    "X = np.sort(5 * np.random.rand(40, 1), axis=0)\n",
    "y = np.sin(X).ravel()\n",
    "\n",
    "# add noise to targets\n",
    "y[::5] += 3 * (0.5 - np.random.rand(8))"
   ]
  },
  {
   "cell_type": "markdown",
   "id": "d658c635",
   "metadata": {},
   "source": [
    "*Inserindo parametros e modelos*"
   ]
  },
  {
   "cell_type": "code",
   "execution_count": 3,
   "id": "3gZpsZVophs-",
   "metadata": {
    "id": "3gZpsZVophs-"
   },
   "outputs": [],
   "source": [
    "svr_rbf = SVR(kernel=\"rbf\", epsilon=0.1)\n",
    "svr_lin = SVR(kernel=\"linear\")"
   ]
  },
  {
   "cell_type": "markdown",
   "id": "75e980c8",
   "metadata": {},
   "source": [
    "*Parametros gridsearch*"
   ]
  },
  {
   "cell_type": "code",
   "execution_count": 4,
   "id": "7db83723",
   "metadata": {},
   "outputs": [],
   "source": [
    "param_grid = [\n",
    "    {\n",
    "        'C': [100, 200, 300], \n",
    "        'gamma': ['scale','auto']\n",
    "    },\n",
    "  ]"
   ]
  },
  {
   "cell_type": "markdown",
   "id": "5a1f5f24",
   "metadata": {},
   "source": [
    "*Aplicando modelo GridSearch*"
   ]
  },
  {
   "cell_type": "code",
   "execution_count": 5,
   "id": "4a4f2e4e",
   "metadata": {},
   "outputs": [
    {
     "data": {
      "text/plain": [
       "GridSearchCV(cv=5, estimator=SVR(),\n",
       "             param_grid=[{'C': [100, 200, 300], 'gamma': ['scale', 'auto']}],\n",
       "             return_train_score=True, scoring='neg_mean_squared_error')"
      ]
     },
     "execution_count": 5,
     "metadata": {},
     "output_type": "execute_result"
    }
   ],
   "source": [
    "grid_search = GridSearchCV(svr_rbf, \n",
    "                           param_grid, \n",
    "                           cv=5,\n",
    "                           scoring='neg_mean_squared_error', \n",
    "                           return_train_score=True)\n",
    "grid_search.fit(X, y)"
   ]
  },
  {
   "cell_type": "code",
   "execution_count": 6,
   "id": "f09b80e5",
   "metadata": {},
   "outputs": [
    {
     "data": {
      "text/plain": [
       "{'C': 200, 'gamma': 'scale'}"
      ]
     },
     "execution_count": 6,
     "metadata": {},
     "output_type": "execute_result"
    }
   ],
   "source": [
    "grid_search.best_params_"
   ]
  },
  {
   "cell_type": "code",
   "execution_count": 7,
   "id": "ab913390",
   "metadata": {},
   "outputs": [
    {
     "data": {
      "text/plain": [
       "SVR(C=200)"
      ]
     },
     "execution_count": 7,
     "metadata": {},
     "output_type": "execute_result"
    }
   ],
   "source": [
    "grid_search.best_estimator_"
   ]
  },
  {
   "cell_type": "code",
   "execution_count": 8,
   "id": "3df0c7e0",
   "metadata": {},
   "outputs": [
    {
     "name": "stdout",
     "output_type": "stream",
     "text": [
      "0.5366935034598019 {'C': 100, 'gamma': 'scale'}\n",
      "0.5390718268252745 {'C': 100, 'gamma': 'auto'}\n",
      "0.5001576557263295 {'C': 200, 'gamma': 'scale'}\n",
      "0.5644634605769674 {'C': 200, 'gamma': 'auto'}\n",
      "0.5130552585404112 {'C': 300, 'gamma': 'scale'}\n",
      "0.6852576840062479 {'C': 300, 'gamma': 'auto'}\n"
     ]
    }
   ],
   "source": [
    "cvres = grid_search.cv_results_\n",
    "for mean_score, params in zip(cvres[\"mean_test_score\"], cvres[\"params\"]):\n",
    "    print(np.sqrt(-mean_score), params)"
   ]
  },
  {
   "cell_type": "code",
   "execution_count": 9,
   "id": "871439fa",
   "metadata": {},
   "outputs": [
    {
     "data": {
      "text/html": [
       "<div>\n",
       "<style scoped>\n",
       "    .dataframe tbody tr th:only-of-type {\n",
       "        vertical-align: middle;\n",
       "    }\n",
       "\n",
       "    .dataframe tbody tr th {\n",
       "        vertical-align: top;\n",
       "    }\n",
       "\n",
       "    .dataframe thead th {\n",
       "        text-align: right;\n",
       "    }\n",
       "</style>\n",
       "<table border=\"1\" class=\"dataframe\">\n",
       "  <thead>\n",
       "    <tr style=\"text-align: right;\">\n",
       "      <th></th>\n",
       "      <th>mean_fit_time</th>\n",
       "      <th>std_fit_time</th>\n",
       "      <th>mean_score_time</th>\n",
       "      <th>std_score_time</th>\n",
       "      <th>param_C</th>\n",
       "      <th>param_gamma</th>\n",
       "      <th>params</th>\n",
       "      <th>split0_test_score</th>\n",
       "      <th>split1_test_score</th>\n",
       "      <th>split2_test_score</th>\n",
       "      <th>...</th>\n",
       "      <th>mean_test_score</th>\n",
       "      <th>std_test_score</th>\n",
       "      <th>rank_test_score</th>\n",
       "      <th>split0_train_score</th>\n",
       "      <th>split1_train_score</th>\n",
       "      <th>split2_train_score</th>\n",
       "      <th>split3_train_score</th>\n",
       "      <th>split4_train_score</th>\n",
       "      <th>mean_train_score</th>\n",
       "      <th>std_train_score</th>\n",
       "    </tr>\n",
       "  </thead>\n",
       "  <tbody>\n",
       "    <tr>\n",
       "      <th>0</th>\n",
       "      <td>0.000199</td>\n",
       "      <td>0.000398</td>\n",
       "      <td>0.000198</td>\n",
       "      <td>0.000397</td>\n",
       "      <td>100</td>\n",
       "      <td>scale</td>\n",
       "      <td>{'C': 100, 'gamma': 'scale'}</td>\n",
       "      <td>-0.668820</td>\n",
       "      <td>-0.294356</td>\n",
       "      <td>-0.081690</td>\n",
       "      <td>...</td>\n",
       "      <td>-0.288040</td>\n",
       "      <td>0.207373</td>\n",
       "      <td>3</td>\n",
       "      <td>-0.148662</td>\n",
       "      <td>-0.087307</td>\n",
       "      <td>-0.140280</td>\n",
       "      <td>-0.109095</td>\n",
       "      <td>-0.149074</td>\n",
       "      <td>-0.126884</td>\n",
       "      <td>0.024613</td>\n",
       "    </tr>\n",
       "    <tr>\n",
       "      <th>1</th>\n",
       "      <td>0.000998</td>\n",
       "      <td>0.000006</td>\n",
       "      <td>0.000000</td>\n",
       "      <td>0.000000</td>\n",
       "      <td>100</td>\n",
       "      <td>auto</td>\n",
       "      <td>{'C': 100, 'gamma': 'auto'}</td>\n",
       "      <td>-0.269183</td>\n",
       "      <td>-0.390338</td>\n",
       "      <td>-0.459704</td>\n",
       "      <td>...</td>\n",
       "      <td>-0.290598</td>\n",
       "      <td>0.134787</td>\n",
       "      <td>4</td>\n",
       "      <td>-0.145218</td>\n",
       "      <td>-0.084181</td>\n",
       "      <td>-0.124218</td>\n",
       "      <td>-0.093830</td>\n",
       "      <td>-0.145076</td>\n",
       "      <td>-0.118505</td>\n",
       "      <td>0.025453</td>\n",
       "    </tr>\n",
       "    <tr>\n",
       "      <th>2</th>\n",
       "      <td>0.000598</td>\n",
       "      <td>0.000489</td>\n",
       "      <td>0.000400</td>\n",
       "      <td>0.000490</td>\n",
       "      <td>200</td>\n",
       "      <td>scale</td>\n",
       "      <td>{'C': 200, 'gamma': 'scale'}</td>\n",
       "      <td>-0.508371</td>\n",
       "      <td>-0.289296</td>\n",
       "      <td>-0.083923</td>\n",
       "      <td>...</td>\n",
       "      <td>-0.250158</td>\n",
       "      <td>0.157141</td>\n",
       "      <td>1</td>\n",
       "      <td>-0.147875</td>\n",
       "      <td>-0.087139</td>\n",
       "      <td>-0.139624</td>\n",
       "      <td>-0.107198</td>\n",
       "      <td>-0.144992</td>\n",
       "      <td>-0.125366</td>\n",
       "      <td>0.024027</td>\n",
       "    </tr>\n",
       "    <tr>\n",
       "      <th>3</th>\n",
       "      <td>0.001395</td>\n",
       "      <td>0.000491</td>\n",
       "      <td>0.000201</td>\n",
       "      <td>0.000401</td>\n",
       "      <td>200</td>\n",
       "      <td>auto</td>\n",
       "      <td>{'C': 200, 'gamma': 'auto'}</td>\n",
       "      <td>-0.107833</td>\n",
       "      <td>-0.401961</td>\n",
       "      <td>-0.672683</td>\n",
       "      <td>...</td>\n",
       "      <td>-0.318619</td>\n",
       "      <td>0.212652</td>\n",
       "      <td>5</td>\n",
       "      <td>-0.142287</td>\n",
       "      <td>-0.083098</td>\n",
       "      <td>-0.123673</td>\n",
       "      <td>-0.094933</td>\n",
       "      <td>-0.145661</td>\n",
       "      <td>-0.117930</td>\n",
       "      <td>0.025049</td>\n",
       "    </tr>\n",
       "    <tr>\n",
       "      <th>4</th>\n",
       "      <td>0.001196</td>\n",
       "      <td>0.000400</td>\n",
       "      <td>0.000000</td>\n",
       "      <td>0.000000</td>\n",
       "      <td>300</td>\n",
       "      <td>scale</td>\n",
       "      <td>{'C': 300, 'gamma': 'scale'}</td>\n",
       "      <td>-0.371262</td>\n",
       "      <td>-0.288258</td>\n",
       "      <td>-0.089887</td>\n",
       "      <td>...</td>\n",
       "      <td>-0.263226</td>\n",
       "      <td>0.092928</td>\n",
       "      <td>2</td>\n",
       "      <td>-0.147059</td>\n",
       "      <td>-0.087118</td>\n",
       "      <td>-0.138912</td>\n",
       "      <td>-0.106706</td>\n",
       "      <td>-0.144202</td>\n",
       "      <td>-0.124799</td>\n",
       "      <td>0.023742</td>\n",
       "    </tr>\n",
       "    <tr>\n",
       "      <th>5</th>\n",
       "      <td>0.001396</td>\n",
       "      <td>0.001016</td>\n",
       "      <td>0.000398</td>\n",
       "      <td>0.000487</td>\n",
       "      <td>300</td>\n",
       "      <td>auto</td>\n",
       "      <td>{'C': 300, 'gamma': 'auto'}</td>\n",
       "      <td>-0.097270</td>\n",
       "      <td>-0.389025</td>\n",
       "      <td>-1.322468</td>\n",
       "      <td>...</td>\n",
       "      <td>-0.469578</td>\n",
       "      <td>0.437305</td>\n",
       "      <td>6</td>\n",
       "      <td>-0.140392</td>\n",
       "      <td>-0.082863</td>\n",
       "      <td>-0.110871</td>\n",
       "      <td>-0.094713</td>\n",
       "      <td>-0.144811</td>\n",
       "      <td>-0.114730</td>\n",
       "      <td>0.024473</td>\n",
       "    </tr>\n",
       "  </tbody>\n",
       "</table>\n",
       "<p>6 rows × 22 columns</p>\n",
       "</div>"
      ],
      "text/plain": [
       "   mean_fit_time  std_fit_time  mean_score_time  std_score_time param_C  \\\n",
       "0       0.000199      0.000398         0.000198        0.000397     100   \n",
       "1       0.000998      0.000006         0.000000        0.000000     100   \n",
       "2       0.000598      0.000489         0.000400        0.000490     200   \n",
       "3       0.001395      0.000491         0.000201        0.000401     200   \n",
       "4       0.001196      0.000400         0.000000        0.000000     300   \n",
       "5       0.001396      0.001016         0.000398        0.000487     300   \n",
       "\n",
       "  param_gamma                        params  split0_test_score  \\\n",
       "0       scale  {'C': 100, 'gamma': 'scale'}          -0.668820   \n",
       "1        auto   {'C': 100, 'gamma': 'auto'}          -0.269183   \n",
       "2       scale  {'C': 200, 'gamma': 'scale'}          -0.508371   \n",
       "3        auto   {'C': 200, 'gamma': 'auto'}          -0.107833   \n",
       "4       scale  {'C': 300, 'gamma': 'scale'}          -0.371262   \n",
       "5        auto   {'C': 300, 'gamma': 'auto'}          -0.097270   \n",
       "\n",
       "   split1_test_score  split2_test_score  ...  mean_test_score  std_test_score  \\\n",
       "0          -0.294356          -0.081690  ...        -0.288040        0.207373   \n",
       "1          -0.390338          -0.459704  ...        -0.290598        0.134787   \n",
       "2          -0.289296          -0.083923  ...        -0.250158        0.157141   \n",
       "3          -0.401961          -0.672683  ...        -0.318619        0.212652   \n",
       "4          -0.288258          -0.089887  ...        -0.263226        0.092928   \n",
       "5          -0.389025          -1.322468  ...        -0.469578        0.437305   \n",
       "\n",
       "   rank_test_score  split0_train_score  split1_train_score  \\\n",
       "0                3           -0.148662           -0.087307   \n",
       "1                4           -0.145218           -0.084181   \n",
       "2                1           -0.147875           -0.087139   \n",
       "3                5           -0.142287           -0.083098   \n",
       "4                2           -0.147059           -0.087118   \n",
       "5                6           -0.140392           -0.082863   \n",
       "\n",
       "   split2_train_score  split3_train_score  split4_train_score  \\\n",
       "0           -0.140280           -0.109095           -0.149074   \n",
       "1           -0.124218           -0.093830           -0.145076   \n",
       "2           -0.139624           -0.107198           -0.144992   \n",
       "3           -0.123673           -0.094933           -0.145661   \n",
       "4           -0.138912           -0.106706           -0.144202   \n",
       "5           -0.110871           -0.094713           -0.144811   \n",
       "\n",
       "   mean_train_score  std_train_score  \n",
       "0         -0.126884         0.024613  \n",
       "1         -0.118505         0.025453  \n",
       "2         -0.125366         0.024027  \n",
       "3         -0.117930         0.025049  \n",
       "4         -0.124799         0.023742  \n",
       "5         -0.114730         0.024473  \n",
       "\n",
       "[6 rows x 22 columns]"
      ]
     },
     "execution_count": 9,
     "metadata": {},
     "output_type": "execute_result"
    }
   ],
   "source": [
    "pd.DataFrame(grid_search.cv_results_)"
   ]
  },
  {
   "cell_type": "markdown",
   "id": "f96xm2NEnjtb",
   "metadata": {
    "id": "f96xm2NEnjtb"
   },
   "source": [
    "##### Resposta:\n",
    "O Kernel Linear é mais simples. Apresenta boa performance em problemas com dados\n",
    "linearmente separáveis. \n",
    "\n",
    "Em grande parte dos problemas de classificação, o Kernel RBF obtém um desempenho superior ao kernel Linear, e por ter um reduzido\n",
    "número de parâmetros é tido como a primeira opção dentre os tipos de kernel.\n",
    "\n",
    "Por tanto, a resposta é depende, O Kernel Linear lida melhor com problemas menos complexos e mais lineares enquanto o Kernel RBF é o oposto. "
   ]
  },
  {
   "cell_type": "markdown",
   "id": "d8afb55c",
   "metadata": {
    "id": "d8afb55c"
   },
   "source": [
    "### 2. Question\n",
    "Modifique o `GridSearchCV` por `RandomizedSearchCV`. Explique em quais é preferível usar GridSearch ao invés de RandomizedSearch e em quais cenários é preferível usar RandomizedSearch?"
   ]
  },
  {
   "cell_type": "code",
   "execution_count": 10,
   "id": "81d63263",
   "metadata": {},
   "outputs": [],
   "source": [
    "param_distribs = {\n",
    "        'C': randint(low=1, high=500),\n",
    "        'gamma': ['auto'],\n",
    "    }"
   ]
  },
  {
   "cell_type": "code",
   "execution_count": 11,
   "id": "83eeef39",
   "metadata": {},
   "outputs": [
    {
     "data": {
      "text/plain": [
       "RandomizedSearchCV(cv=5, estimator=SVR(),\n",
       "                   param_distributions={'C': <scipy.stats._distn_infrastructure.rv_frozen object at 0x00000196AF864070>,\n",
       "                                        'gamma': ['auto']},\n",
       "                   random_state=42, scoring='neg_mean_squared_error')"
      ]
     },
     "execution_count": 11,
     "metadata": {},
     "output_type": "execute_result"
    }
   ],
   "source": [
    "rnd_search = RandomizedSearchCV(svr_rbf, \n",
    "                                param_distributions=param_distribs,\n",
    "                                n_iter=10, \n",
    "                                cv=5, \n",
    "                                scoring='neg_mean_squared_error', \n",
    "                                random_state=42)\n",
    "\n",
    "rnd_search.fit(X, y)"
   ]
  },
  {
   "cell_type": "code",
   "execution_count": 12,
   "id": "1a738f69",
   "metadata": {},
   "outputs": [
    {
     "name": "stdout",
     "output_type": "stream",
     "text": [
      "0.5387202842543507 {'C': 103, 'gamma': 'auto'}\n",
      "0.886054994542946 {'C': 436, 'gamma': 'auto'}\n",
      "0.759407575484948 {'C': 349, 'gamma': 'auto'}\n",
      "0.6471172783371685 {'C': 271, 'gamma': 'auto'}\n",
      "0.5341226076953757 {'C': 107, 'gamma': 'auto'}\n",
      "0.5510935899248387 {'C': 72, 'gamma': 'auto'}\n",
      "0.5528797532262647 {'C': 189, 'gamma': 'auto'}\n",
      "0.48826942500430265 {'C': 21, 'gamma': 'auto'}\n",
      "0.5387202842543507 {'C': 103, 'gamma': 'auto'}\n",
      "0.5365845358851659 {'C': 122, 'gamma': 'auto'}\n"
     ]
    }
   ],
   "source": [
    "cvres = rnd_search.cv_results_\n",
    "for mean_score, params in zip(cvres[\"mean_test_score\"], cvres[\"params\"]):\n",
    "    print(np.sqrt(-mean_score), params)"
   ]
  },
  {
   "cell_type": "code",
   "execution_count": 13,
   "id": "b6294025",
   "metadata": {},
   "outputs": [
    {
     "data": {
      "text/html": [
       "<div>\n",
       "<style scoped>\n",
       "    .dataframe tbody tr th:only-of-type {\n",
       "        vertical-align: middle;\n",
       "    }\n",
       "\n",
       "    .dataframe tbody tr th {\n",
       "        vertical-align: top;\n",
       "    }\n",
       "\n",
       "    .dataframe thead th {\n",
       "        text-align: right;\n",
       "    }\n",
       "</style>\n",
       "<table border=\"1\" class=\"dataframe\">\n",
       "  <thead>\n",
       "    <tr style=\"text-align: right;\">\n",
       "      <th></th>\n",
       "      <th>mean_fit_time</th>\n",
       "      <th>std_fit_time</th>\n",
       "      <th>mean_score_time</th>\n",
       "      <th>std_score_time</th>\n",
       "      <th>param_C</th>\n",
       "      <th>param_gamma</th>\n",
       "      <th>params</th>\n",
       "      <th>split0_test_score</th>\n",
       "      <th>split1_test_score</th>\n",
       "      <th>split2_test_score</th>\n",
       "      <th>split3_test_score</th>\n",
       "      <th>split4_test_score</th>\n",
       "      <th>mean_test_score</th>\n",
       "      <th>std_test_score</th>\n",
       "      <th>rank_test_score</th>\n",
       "    </tr>\n",
       "  </thead>\n",
       "  <tbody>\n",
       "    <tr>\n",
       "      <th>0</th>\n",
       "      <td>0.000826</td>\n",
       "      <td>0.000417</td>\n",
       "      <td>0.000199</td>\n",
       "      <td>0.000399</td>\n",
       "      <td>103</td>\n",
       "      <td>auto</td>\n",
       "      <td>{'C': 103, 'gamma': 'auto'}</td>\n",
       "      <td>-0.259891</td>\n",
       "      <td>-0.392682</td>\n",
       "      <td>-0.462586</td>\n",
       "      <td>-0.272816</td>\n",
       "      <td>-0.063123</td>\n",
       "      <td>-0.290220</td>\n",
       "      <td>0.136385</td>\n",
       "      <td>4</td>\n",
       "    </tr>\n",
       "    <tr>\n",
       "      <th>1</th>\n",
       "      <td>0.001396</td>\n",
       "      <td>0.000797</td>\n",
       "      <td>0.000398</td>\n",
       "      <td>0.000488</td>\n",
       "      <td>436</td>\n",
       "      <td>auto</td>\n",
       "      <td>{'C': 436, 'gamma': 'auto'}</td>\n",
       "      <td>-0.370188</td>\n",
       "      <td>-0.370804</td>\n",
       "      <td>-2.150481</td>\n",
       "      <td>-0.313538</td>\n",
       "      <td>-0.720457</td>\n",
       "      <td>-0.785093</td>\n",
       "      <td>0.697798</td>\n",
       "      <td>10</td>\n",
       "    </tr>\n",
       "    <tr>\n",
       "      <th>2</th>\n",
       "      <td>0.001395</td>\n",
       "      <td>0.000488</td>\n",
       "      <td>0.000000</td>\n",
       "      <td>0.000000</td>\n",
       "      <td>349</td>\n",
       "      <td>auto</td>\n",
       "      <td>{'C': 349, 'gamma': 'auto'}</td>\n",
       "      <td>-0.135350</td>\n",
       "      <td>-0.387044</td>\n",
       "      <td>-1.678532</td>\n",
       "      <td>-0.312116</td>\n",
       "      <td>-0.370457</td>\n",
       "      <td>-0.576700</td>\n",
       "      <td>0.558092</td>\n",
       "      <td>9</td>\n",
       "    </tr>\n",
       "    <tr>\n",
       "      <th>3</th>\n",
       "      <td>0.001396</td>\n",
       "      <td>0.000797</td>\n",
       "      <td>0.000000</td>\n",
       "      <td>0.000000</td>\n",
       "      <td>271</td>\n",
       "      <td>auto</td>\n",
       "      <td>{'C': 271, 'gamma': 'auto'}</td>\n",
       "      <td>-0.090407</td>\n",
       "      <td>-0.397557</td>\n",
       "      <td>-1.138807</td>\n",
       "      <td>-0.311247</td>\n",
       "      <td>-0.155786</td>\n",
       "      <td>-0.418761</td>\n",
       "      <td>0.376151</td>\n",
       "      <td>8</td>\n",
       "    </tr>\n",
       "    <tr>\n",
       "      <th>4</th>\n",
       "      <td>0.000598</td>\n",
       "      <td>0.000488</td>\n",
       "      <td>0.000199</td>\n",
       "      <td>0.000399</td>\n",
       "      <td>107</td>\n",
       "      <td>auto</td>\n",
       "      <td>{'C': 107, 'gamma': 'auto'}</td>\n",
       "      <td>-0.249034</td>\n",
       "      <td>-0.396360</td>\n",
       "      <td>-0.441131</td>\n",
       "      <td>-0.276433</td>\n",
       "      <td>-0.063477</td>\n",
       "      <td>-0.285287</td>\n",
       "      <td>0.132073</td>\n",
       "      <td>2</td>\n",
       "    </tr>\n",
       "    <tr>\n",
       "      <th>5</th>\n",
       "      <td>0.000199</td>\n",
       "      <td>0.000399</td>\n",
       "      <td>0.000399</td>\n",
       "      <td>0.000488</td>\n",
       "      <td>72</td>\n",
       "      <td>auto</td>\n",
       "      <td>{'C': 72, 'gamma': 'auto'}</td>\n",
       "      <td>-0.356479</td>\n",
       "      <td>-0.361846</td>\n",
       "      <td>-0.438280</td>\n",
       "      <td>-0.251302</td>\n",
       "      <td>-0.110614</td>\n",
       "      <td>-0.303704</td>\n",
       "      <td>0.113407</td>\n",
       "      <td>6</td>\n",
       "    </tr>\n",
       "    <tr>\n",
       "      <th>6</th>\n",
       "      <td>0.001097</td>\n",
       "      <td>0.000914</td>\n",
       "      <td>0.000199</td>\n",
       "      <td>0.000399</td>\n",
       "      <td>189</td>\n",
       "      <td>auto</td>\n",
       "      <td>{'C': 189, 'gamma': 'auto'}</td>\n",
       "      <td>-0.114390</td>\n",
       "      <td>-0.400908</td>\n",
       "      <td>-0.603914</td>\n",
       "      <td>-0.314801</td>\n",
       "      <td>-0.094368</td>\n",
       "      <td>-0.305676</td>\n",
       "      <td>0.189388</td>\n",
       "      <td>7</td>\n",
       "    </tr>\n",
       "    <tr>\n",
       "      <th>7</th>\n",
       "      <td>0.000399</td>\n",
       "      <td>0.000488</td>\n",
       "      <td>0.000199</td>\n",
       "      <td>0.000399</td>\n",
       "      <td>21</td>\n",
       "      <td>auto</td>\n",
       "      <td>{'C': 21, 'gamma': 'auto'}</td>\n",
       "      <td>-0.176822</td>\n",
       "      <td>-0.291638</td>\n",
       "      <td>-0.187460</td>\n",
       "      <td>-0.251129</td>\n",
       "      <td>-0.284986</td>\n",
       "      <td>-0.238407</td>\n",
       "      <td>0.048069</td>\n",
       "      <td>1</td>\n",
       "    </tr>\n",
       "    <tr>\n",
       "      <th>8</th>\n",
       "      <td>0.000399</td>\n",
       "      <td>0.000488</td>\n",
       "      <td>0.000199</td>\n",
       "      <td>0.000399</td>\n",
       "      <td>103</td>\n",
       "      <td>auto</td>\n",
       "      <td>{'C': 103, 'gamma': 'auto'}</td>\n",
       "      <td>-0.259891</td>\n",
       "      <td>-0.392682</td>\n",
       "      <td>-0.462586</td>\n",
       "      <td>-0.272816</td>\n",
       "      <td>-0.063123</td>\n",
       "      <td>-0.290220</td>\n",
       "      <td>0.136385</td>\n",
       "      <td>4</td>\n",
       "    </tr>\n",
       "    <tr>\n",
       "      <th>9</th>\n",
       "      <td>0.000199</td>\n",
       "      <td>0.000399</td>\n",
       "      <td>0.000199</td>\n",
       "      <td>0.000398</td>\n",
       "      <td>122</td>\n",
       "      <td>auto</td>\n",
       "      <td>{'C': 122, 'gamma': 'auto'}</td>\n",
       "      <td>-0.210838</td>\n",
       "      <td>-0.412394</td>\n",
       "      <td>-0.443827</td>\n",
       "      <td>-0.293326</td>\n",
       "      <td>-0.079230</td>\n",
       "      <td>-0.287923</td>\n",
       "      <td>0.133659</td>\n",
       "      <td>3</td>\n",
       "    </tr>\n",
       "  </tbody>\n",
       "</table>\n",
       "</div>"
      ],
      "text/plain": [
       "   mean_fit_time  std_fit_time  mean_score_time  std_score_time param_C  \\\n",
       "0       0.000826      0.000417         0.000199        0.000399     103   \n",
       "1       0.001396      0.000797         0.000398        0.000488     436   \n",
       "2       0.001395      0.000488         0.000000        0.000000     349   \n",
       "3       0.001396      0.000797         0.000000        0.000000     271   \n",
       "4       0.000598      0.000488         0.000199        0.000399     107   \n",
       "5       0.000199      0.000399         0.000399        0.000488      72   \n",
       "6       0.001097      0.000914         0.000199        0.000399     189   \n",
       "7       0.000399      0.000488         0.000199        0.000399      21   \n",
       "8       0.000399      0.000488         0.000199        0.000399     103   \n",
       "9       0.000199      0.000399         0.000199        0.000398     122   \n",
       "\n",
       "  param_gamma                       params  split0_test_score  \\\n",
       "0        auto  {'C': 103, 'gamma': 'auto'}          -0.259891   \n",
       "1        auto  {'C': 436, 'gamma': 'auto'}          -0.370188   \n",
       "2        auto  {'C': 349, 'gamma': 'auto'}          -0.135350   \n",
       "3        auto  {'C': 271, 'gamma': 'auto'}          -0.090407   \n",
       "4        auto  {'C': 107, 'gamma': 'auto'}          -0.249034   \n",
       "5        auto   {'C': 72, 'gamma': 'auto'}          -0.356479   \n",
       "6        auto  {'C': 189, 'gamma': 'auto'}          -0.114390   \n",
       "7        auto   {'C': 21, 'gamma': 'auto'}          -0.176822   \n",
       "8        auto  {'C': 103, 'gamma': 'auto'}          -0.259891   \n",
       "9        auto  {'C': 122, 'gamma': 'auto'}          -0.210838   \n",
       "\n",
       "   split1_test_score  split2_test_score  split3_test_score  split4_test_score  \\\n",
       "0          -0.392682          -0.462586          -0.272816          -0.063123   \n",
       "1          -0.370804          -2.150481          -0.313538          -0.720457   \n",
       "2          -0.387044          -1.678532          -0.312116          -0.370457   \n",
       "3          -0.397557          -1.138807          -0.311247          -0.155786   \n",
       "4          -0.396360          -0.441131          -0.276433          -0.063477   \n",
       "5          -0.361846          -0.438280          -0.251302          -0.110614   \n",
       "6          -0.400908          -0.603914          -0.314801          -0.094368   \n",
       "7          -0.291638          -0.187460          -0.251129          -0.284986   \n",
       "8          -0.392682          -0.462586          -0.272816          -0.063123   \n",
       "9          -0.412394          -0.443827          -0.293326          -0.079230   \n",
       "\n",
       "   mean_test_score  std_test_score  rank_test_score  \n",
       "0        -0.290220        0.136385                4  \n",
       "1        -0.785093        0.697798               10  \n",
       "2        -0.576700        0.558092                9  \n",
       "3        -0.418761        0.376151                8  \n",
       "4        -0.285287        0.132073                2  \n",
       "5        -0.303704        0.113407                6  \n",
       "6        -0.305676        0.189388                7  \n",
       "7        -0.238407        0.048069                1  \n",
       "8        -0.290220        0.136385                4  \n",
       "9        -0.287923        0.133659                3  "
      ]
     },
     "execution_count": 13,
     "metadata": {},
     "output_type": "execute_result"
    }
   ],
   "source": [
    "pd.DataFrame(rnd_search.cv_results_)"
   ]
  },
  {
   "cell_type": "markdown",
   "id": "-81H-ZaxvMu0",
   "metadata": {
    "id": "-81H-ZaxvMu0"
   },
   "source": [
    "##### Resposta:\n",
    " O GridSearchCV faz todas as combinações possíveis dos parâmetros que lhes foram passados na hora de fazer o ajuste fino do modelo; enquanto a RandomizedSearchCV faz apenas uma quantidade específica e limitada de combinações aleatórias, e nós é que determinamos quantas iterações queremos que sejam feitas.\n",
    "\n",
    "Ou seja, o Gridsearch tem um custo computacional maior e consequentemente leva mais tempo para ser executado, enquanto o Randomizedsearch tem um custo computacional bastante inferior e é relativamente mais rápido de ser executado. "
   ]
  },
  {
   "cell_type": "markdown",
   "id": "c2577f3e",
   "metadata": {
    "id": "c2577f3e"
   },
   "source": [
    "### 3. Question\n",
    "Adicione um transformador para selecionar somente as features mais importantes."
   ]
  },
  {
   "cell_type": "code",
   "execution_count": 14,
   "id": "b0ba211a",
   "metadata": {
    "ExecuteTime": {
     "end_time": "2021-11-29T00:06:20.184746Z",
     "start_time": "2021-11-29T00:06:20.173751Z"
    },
    "id": "b0ba211a"
   },
   "outputs": [],
   "source": [
    "## Disponível em: https://www.kaggle.com/camnugent/california-housing-prices?##select=housing.csv\n",
    "df = pd.read_csv('housing.csv')"
   ]
  },
  {
   "cell_type": "code",
   "execution_count": 15,
   "id": "Uidr5X5l9agt",
   "metadata": {
    "colab": {
     "base_uri": "https://localhost:8080/",
     "height": 583
    },
    "id": "Uidr5X5l9agt",
    "outputId": "cfd42589-faf5-41eb-e010-88ee5f8060ea"
   },
   "outputs": [
    {
     "data": {
      "image/png": "[encoded data removed]",
      "text/plain": [
       "<Figure size 792x576 with 2 Axes>"
      ]
     },
     "metadata": {
      "needs_background": "light"
     },
     "output_type": "display_data"
    }
   ],
   "source": [
    "## Definindo tamanho da figura\n",
    "rcParams['figure.figsize'] = 11, 8\n",
    "## Matriz de correlação\n",
    "matriz_de_correlacao = df.corr()\n",
    "## Mapa de calor\n",
    "sns.heatmap(matriz_de_correlacao, annot=True, vmin=-1, vmax=1, center=0)\n",
    "## Definindo a posição dos ticks nos eixos\n",
    "plt.yticks(rotation=360)\n",
    "plt.xticks(rotation=90)\n",
    "## Mostrando a figura\n",
    "plt.show()"
   ]
  },
  {
   "cell_type": "code",
   "execution_count": 16,
   "id": "UElSoKSR9p3V",
   "metadata": {
    "id": "UElSoKSR9p3V"
   },
   "outputs": [],
   "source": [
    "# Preenchendo valores faltantes com a mediana\n",
    "df['total_bedrooms'].fillna(df['total_bedrooms'].median(), inplace=True)\n",
    "## Separando entre previsores e target\n",
    "Previsores = df[['longitude','latitude','housing_median_age','total_rooms',\n",
    "        'total_bedrooms','population','households','median_income']]\n",
    "Target = df['median_house_value']"
   ]
  },
  {
   "cell_type": "code",
   "execution_count": 17,
   "id": "gI3NWSb690Ck",
   "metadata": {
    "colab": {
     "base_uri": "https://localhost:8080/"
    },
    "id": "gI3NWSb690Ck",
    "outputId": "3c956430-7584-4069-a61d-289d52fbecf9"
   },
   "outputs": [
    {
     "name": "stdout",
     "output_type": "stream",
     "text": [
      "[[3.7880e+01 8.8000e+02 8.3252e+00]\n",
      " [3.7860e+01 7.0990e+03 8.3014e+00]\n",
      " [3.7850e+01 1.4670e+03 7.2574e+00]\n",
      " ...\n",
      " [3.9430e+01 2.2540e+03 1.7000e+00]\n",
      " [3.9430e+01 1.8600e+03 1.8672e+00]\n",
      " [3.9370e+01 2.7850e+03 2.3886e+00]]\n"
     ]
    }
   ],
   "source": [
    "## Select K-Best\n",
    "from sklearn.feature_selection import SelectKBest\n",
    "## f_regression\n",
    "from sklearn.feature_selection import f_regression\n",
    "## Selecionando as três melhores features\n",
    "Previsores_kbest = SelectKBest(f_regression, k=3).fit_transform(Previsores, Target)\n",
    "print(Previsores_kbest)"
   ]
  },
  {
   "cell_type": "markdown",
   "id": "1e805e47",
   "metadata": {
    "id": "1e805e47"
   },
   "source": [
    "### 4. question\n",
    "Tente criar um único pipeline que faça a preparação de dados completos mais a previsão final usando um outro algoritmo de machine learning não apresentado no tutorial."
   ]
  },
  {
   "cell_type": "code",
   "execution_count": 18,
   "id": "_jxNM007utmr",
   "metadata": {
    "colab": {
     "base_uri": "https://localhost:8080/"
    },
    "id": "_jxNM007utmr",
    "outputId": "3f983f48-6c8e-442a-c220-8fe96fac14f4"
   },
   "outputs": [
    {
     "name": "stdout",
     "output_type": "stream",
     "text": [
      "Test accuracy: 0.956\n"
     ]
    }
   ],
   "source": [
    "df = pd.read_csv('https://archive.ics.uci.edu/ml/'\n",
    "                 'machine-learning-databases'\n",
    "                 '/breast-cancer-wisconsin/wdbc.data', header=None)\n",
    "#\n",
    "# Encode the label using LabelEncoder\n",
    "#\n",
    "X = df.loc[:, 2:].values\n",
    "y = df.loc[:, 1].values\n",
    "le = LabelEncoder()\n",
    "y = le.fit_transform(y)\n",
    "#\n",
    "# Create training and test data\n",
    "#\n",
    "X_train, X_test, y_train, y_test = train_test_split(X, y, test_size=0.20, stratify=y, random_state=1)\n",
    "#\n",
    "# Create a pipeline and fit the model\n",
    "#\n",
    "pipe_lr = make_pipeline(StandardScaler(),\n",
    "                        PCA(n_components=2),\n",
    "                        RandomForestClassifier(criterion='gini', n_estimators=50, max_depth=5, random_state=1))\n",
    " \n",
    "pipe_lr.fit(X_train, y_train)\n",
    "y_pred = pipe_lr.predict(X_test)\n",
    "test_acc = pipe_lr.score(X_test, y_test)\n",
    "print(f'Test accuracy: {test_acc:.3f}')"
   ]
  },
  {
   "cell_type": "markdown",
   "id": "81ca315a",
   "metadata": {
    "id": "81ca315a"
   },
   "source": [
    "### 5. Question\n",
    "Explore automaticamente alguma opção de preparação usando `GridSearchCV`."
   ]
  },
  {
   "cell_type": "code",
   "execution_count": 19,
   "id": "g0-xuhqRpVX8",
   "metadata": {
    "id": "g0-xuhqRpVX8"
   },
   "outputs": [],
   "source": [
    "from sklearn import svm, datasets\n",
    "from sklearn.model_selection import GridSearchCV\n",
    "iris = datasets.load_iris()"
   ]
  },
  {
   "cell_type": "code",
   "execution_count": 20,
   "id": "-t-q_Xf7quNj",
   "metadata": {
    "colab": {
     "base_uri": "https://localhost:8080/"
    },
    "id": "-t-q_Xf7quNj",
    "outputId": "b79a17de-ca4e-426f-b9cd-51ad1f219263"
   },
   "outputs": [
    {
     "data": {
      "text/plain": [
       "GridSearchCV(estimator=SVC(),\n",
       "             param_grid={'C': [1, 10], 'kernel': ('linear', 'rbf')})"
      ]
     },
     "execution_count": 20,
     "metadata": {},
     "output_type": "execute_result"
    }
   ],
   "source": [
    "parameters = {'kernel':('linear', 'rbf'), 'C':[1, 10]}\n",
    "svc = svm.SVC()\n",
    "clf = GridSearchCV(svc, parameters)\n",
    "clf.fit(iris.data, iris.target)"
   ]
  },
  {
   "cell_type": "code",
   "execution_count": 21,
   "id": "cuewdj_UrDP5",
   "metadata": {
    "colab": {
     "base_uri": "https://localhost:8080/"
    },
    "id": "cuewdj_UrDP5",
    "outputId": "f3c9af4f-b5f0-46da-bea4-9b4667b5bdac"
   },
   "outputs": [
    {
     "data": {
      "text/plain": [
       "['mean_fit_time',\n",
       " 'mean_score_time',\n",
       " 'mean_test_score',\n",
       " 'param_C',\n",
       " 'param_kernel',\n",
       " 'params',\n",
       " 'rank_test_score',\n",
       " 'split0_test_score',\n",
       " 'split1_test_score',\n",
       " 'split2_test_score',\n",
       " 'split3_test_score',\n",
       " 'split4_test_score',\n",
       " 'std_fit_time',\n",
       " 'std_score_time',\n",
       " 'std_test_score']"
      ]
     },
     "execution_count": 21,
     "metadata": {},
     "output_type": "execute_result"
    }
   ],
   "source": [
    "sorted(clf.cv_results_.keys())"
   ]
  }
 ],
 "metadata": {
  "colab": {
   "provenance": []
  },
  "kernelspec": {
   "display_name": "Python 3 (ipykernel)",
   "language": "python",
   "name": "python3"
  },
  "language_info": {
   "codemirror_mode": {
    "name": "ipython",
    "version": 3
   },
   "file_extension": ".py",
   "mimetype": "text/x-python",
   "name": "python",
   "nbconvert_exporter": "python",
   "pygments_lexer": "ipython3",
   "version": "3.9.12"
  },
  "vscode": {
   "interpreter": {
    "hash": "e2e6ef08d5c68e8f2b193a159a8a1d001cdef218fb863802a3579938b197420f"
   }
  }
 },
 "nbformat": 4,
 "nbformat_minor": 5
}
